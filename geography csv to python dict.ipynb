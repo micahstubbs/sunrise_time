{
 "metadata": {
  "name": ""
 },
 "nbformat": 3,
 "nbformat_minor": 0,
 "worksheets": [
  {
   "cells": [
    {
     "cell_type": "code",
     "collapsed": false,
     "input": [
      "cd C:\\Users\\mstubbs\\workspace\\data viz sandbox\\sunrise by city\\\n",
      "\n"
     ],
     "language": "python",
     "metadata": {},
     "outputs": [
      {
       "output_type": "stream",
       "stream": "stdout",
       "text": [
        "C:\\Users\\mstubbs\\workspace\\data viz sandbox\\sunrise by city\n"
       ]
      }
     ],
     "prompt_number": 29
    },
    {
     "cell_type": "code",
     "collapsed": false,
     "input": [
      "import csv\n",
      "\n",
      "csvfile = 'geography_alternateID.csv'\n",
      "reader = csv.reader(open(csvfile), delimiter=',', quotechar='\"')\n",
      "\n",
      "geography = {\n",
      "    rows[0].decode(\"ISO-8859-1\") : {\n",
      "                'alternateID':rows[1].decode(\"ISO-8859-1\")\n",
      "              } for rows in reader }\n",
      "\n"
     ],
     "language": "python",
     "metadata": {},
     "outputs": [],
     "prompt_number": 30
    },
    {
     "cell_type": "code",
     "collapsed": false,
     "input": [
      "import json\n",
      "with open('geography_alternateID.json', 'wb') as outfile:\n",
      "    json.dump(geography, outfile)"
     ],
     "language": "python",
     "metadata": {},
     "outputs": [],
     "prompt_number": 32
    },
    {
     "cell_type": "code",
     "collapsed": false,
     "input": [],
     "language": "python",
     "metadata": {},
     "outputs": []
    }
   ],
   "metadata": {}
  }
 ]
}
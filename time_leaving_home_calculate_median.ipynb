{
 "metadata": {
  "name": ""
 },
 "nbformat": 3,
 "nbformat_minor": 0,
 "worksheets": [
  {
   "cells": [
    {
     "cell_type": "code",
     "collapsed": false,
     "input": [
      "cd C:\\Users\\mstubbs\\workspace\\data viz sandbox\\sunrise by city\\\n"
     ],
     "language": "python",
     "metadata": {},
     "outputs": [
      {
       "output_type": "stream",
       "stream": "stdout",
       "text": [
        "C:\\Users\\mstubbs\\workspace\\data viz sandbox\\sunrise by city\n"
       ]
      }
     ],
     "prompt_number": 1
    },
    {
     "cell_type": "code",
     "collapsed": false,
     "input": [
      "import json\n",
      "json_data = open('time_counts_leaving_home.json')\n",
      "leaving_times = json.load(json_data)"
     ],
     "language": "python",
     "metadata": {},
     "outputs": [],
     "prompt_number": 4
    },
    {
     "cell_type": "code",
     "collapsed": false,
     "input": [
      "leaving_times['Abbeville, LA Micro Area']"
     ],
     "language": "python",
     "metadata": {},
     "outputs": [
      {
       "metadata": {},
       "output_type": "pyout",
       "prompt_number": 5,
       "text": [
        "{u'00:00 to 04:59': u'1610',\n",
        " u'05:00 to 05:29': u'1796',\n",
        " u'05:30 to 05:59': u'1577',\n",
        " u'06:00 to 06:29 ': u'2530',\n",
        " u'06:30 to 06:59': u'2842',\n",
        " u'07:00 to 07:29': u'3983',\n",
        " u'07:30 to 07:59': u'3096',\n",
        " u'08:00 to 08:29': u'2159',\n",
        " u'08:30 to 08:59': u'659',\n",
        " u'09:00 to 09:59': u'753',\n",
        " u'10:00 to 10:59': u'358',\n",
        " u'11:00 to 11:59': u'251',\n",
        " u'12:00 to 15:59': u'997',\n",
        " u'16:00 to 23:59': u'985'}"
       ]
      }
     ],
     "prompt_number": 5
    },
    {
     "cell_type": "code",
     "collapsed": false,
     "input": [
      "print leaving_times['Abbeville, LA Micro Area']"
     ],
     "language": "python",
     "metadata": {},
     "outputs": [
      {
       "output_type": "stream",
       "stream": "stdout",
       "text": [
        "{u'16:00 to 23:59': u'985', u'07:30 to 07:59': u'3096', u'07:00 to 07:29': u'3983', u'05:00 to 05:29': u'1796', u'06:00 to 06:29 ': u'2530', u'08:30 to 08:59': u'659', u'06:30 to 06:59': u'2842', u'00:00 to 04:59': u'1610', u'09:00 to 09:59': u'753', u'05:30 to 05:59': u'1577', u'12:00 to 15:59': u'997', u'08:00 to 08:29': u'2159', u'11:00 to 11:59': u'251', u'10:00 to 10:59': u'358'}\n"
       ]
      }
     ],
     "prompt_number": 6
    },
    {
     "cell_type": "code",
     "collapsed": false,
     "input": [
      "print leaving_times['Abbeville, LA Micro Area']['16:00 to 23:59']"
     ],
     "language": "python",
     "metadata": {},
     "outputs": [
      {
       "output_type": "stream",
       "stream": "stdout",
       "text": [
        "985\n"
       ]
      }
     ],
     "prompt_number": 7
    },
    {
     "cell_type": "code",
     "collapsed": false,
     "input": [
      "total = 0\n",
      "for k,v in leaving_times['Abbeville, LA Micro Area'].items():\n",
      "    total += int(v)\n",
      "print total"
     ],
     "language": "python",
     "metadata": {},
     "outputs": [
      {
       "output_type": "stream",
       "stream": "stdout",
       "text": [
        "23596\n"
       ]
      }
     ],
     "prompt_number": 14
    },
    {
     "cell_type": "code",
     "collapsed": false,
     "input": [
      "print total / 2\n",
      "    "
     ],
     "language": "python",
     "metadata": {},
     "outputs": [
      {
       "output_type": "stream",
       "stream": "stdout",
       "text": [
        "11798\n"
       ]
      }
     ],
     "prompt_number": 17
    },
    {
     "cell_type": "code",
     "collapsed": false,
     "input": [
      "median_value = total / 2"
     ],
     "language": "python",
     "metadata": {},
     "outputs": [],
     "prompt_number": 18
    },
    {
     "cell_type": "code",
     "collapsed": false,
     "input": [],
     "language": "python",
     "metadata": {},
     "outputs": []
    }
   ],
   "metadata": {}
  }
 ]
}
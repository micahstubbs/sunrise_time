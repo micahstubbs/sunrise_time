{
 "metadata": {
  "name": "towns_with_sunrises json to csv"
 },
 "nbformat": 3,
 "nbformat_minor": 0,
 "worksheets": [
  {
   "cells": [
    {
     "cell_type": "code",
     "collapsed": false,
     "input": [
      "import json\n",
      "\n",
      "with open('towns_with_sunrise_times.json') as json_file:\n",
      "    towns = json.load(json_file)\n",
      "    \n",
      "    import csv\n",
      "    with open('towns_mean_sunrise_times.csv', 'w') as fp:\n",
      "        a = csv.writer(fp, delimiter=',')\n",
      "        for key, value in towns.items():\n",
      "            m = [key, value['meanSunriseTime']]\n",
      "            a.writerow(m)"
     ],
     "language": "python",
     "metadata": {},
     "outputs": [],
     "prompt_number": 1
    },
    {
     "cell_type": "code",
     "collapsed": false,
     "input": [
      "    "
     ],
     "language": "python",
     "metadata": {},
     "outputs": []
    }
   ],
   "metadata": {}
  }
 ]
}
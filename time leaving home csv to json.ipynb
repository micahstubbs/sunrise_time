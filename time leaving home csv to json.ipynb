{
 "metadata": {
  "name": ""
 },
 "nbformat": 3,
 "nbformat_minor": 0,
 "worksheets": [
  {
   "cells": [
    {
     "cell_type": "code",
     "collapsed": false,
     "input": [
      "cd C:\\Users\\mstubbs\\workspace\\data viz sandbox\\sunrise by city\\\n",
      "\n"
     ],
     "language": "python",
     "metadata": {},
     "outputs": [
      {
       "output_type": "stream",
       "stream": "stdout",
       "text": [
        "C:\\Users\\mstubbs\\workspace\\data viz sandbox\\sunrise by city\n"
       ]
      }
     ],
     "prompt_number": 2
    },
    {
     "cell_type": "code",
     "collapsed": false,
     "input": [
      "import csv\n",
      "\n",
      "data = 'time_leaving_home_data.csv'\n",
      "data_reader = csv.reader(open(data), delimiter=',', quotechar='\"')\n",
      "\n",
      "headers = 'time_leaving_home_headers.csv'\n",
      "headers_reader = csv.reader(open(headers), delimiter=',', quotechar='\"')\n",
      "\n",
      "leaving_times = {} #dict containing leaving times\n",
      "    \n",
      "n=1\n",
      "for rows in headers_reader:\n",
      "    leaving_times[n] = rows[0] \n",
      "    n+=1\n",
      "    \n",
      "#print leaving_times\n",
      "\n",
      "time_counts = {\n",
      "               rows[0].decode(\"ISO-8859-1\") : {\n",
      "                                               leaving_times[1] : rows[1],\n",
      "                                               leaving_times[2] : rows[2],\n",
      "                                               leaving_times[3] : rows[3],\n",
      "                                               leaving_times[4] : rows[4],\n",
      "                                               leaving_times[5] : rows[5],\n",
      "                                               leaving_times[6] : rows[6],\n",
      "                                               leaving_times[7] : rows[7],\n",
      "                                               leaving_times[8] : rows[8],\n",
      "                                               leaving_times[9] : rows[9],\n",
      "                                               leaving_times[10] : rows[10],\n",
      "                                               leaving_times[11] : rows[11],\n",
      "                                               leaving_times[12] : rows[12],\n",
      "                                               leaving_times[13] : rows[13],\n",
      "                                               leaving_times[14] : rows[14]\n",
      "                                               } for rows in data_reader }\n",
      "\n",
      "\n"
     ],
     "language": "python",
     "metadata": {},
     "outputs": [],
     "prompt_number": 3
    },
    {
     "cell_type": "code",
     "collapsed": false,
     "input": [
      "import json\n",
      "with open('time_counts_leaving_home.json', 'wb') as outfile:\n",
      "    json.dump(time_counts, outfile)"
     ],
     "language": "python",
     "metadata": {},
     "outputs": [],
     "prompt_number": 4
    },
    {
     "cell_type": "code",
     "collapsed": false,
     "input": [
      "time_counts['Abbeville, LA Micro Area']"
     ],
     "language": "python",
     "metadata": {},
     "outputs": [
      {
       "metadata": {},
       "output_type": "pyout",
       "prompt_number": 5,
       "text": [
        "{'00:00 to 04:59': '1610',\n",
        " '05:00 to 05:29': '1796',\n",
        " '05:30 to 05:59': '1577',\n",
        " '06:00 to 06:29 ': '2530',\n",
        " '06:30 to 06:59': '2842',\n",
        " '07:00 to 07:29': '3983',\n",
        " '07:30 to 07:59': '3096',\n",
        " '08:00 to 08:29': '2159',\n",
        " '08:30 to 08:59': '659',\n",
        " '09:00 to 09:59': '753',\n",
        " '10:00 to 10:59': '358',\n",
        " '11:00 to 11:59': '251',\n",
        " '12:00 to 15:59': '997',\n",
        " '16:00 to 23:59': '985'}"
       ]
      }
     ],
     "prompt_number": 5
    },
    {
     "cell_type": "code",
     "collapsed": false,
     "input": [],
     "language": "python",
     "metadata": {},
     "outputs": []
    }
   ],
   "metadata": {}
  }
 ]
}